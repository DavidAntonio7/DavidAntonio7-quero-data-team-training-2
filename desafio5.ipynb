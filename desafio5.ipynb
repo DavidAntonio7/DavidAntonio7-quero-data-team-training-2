{
  "nbformat": 4,
  "nbformat_minor": 0,
  "metadata": {
    "colab": {
      "provenance": [],
      "authorship_tag": "ABX9TyO4pbW6fbgtFKuy3UIRzVXD",
      "include_colab_link": true
    },
    "kernelspec": {
      "name": "python3",
      "display_name": "Python 3"
    },
    "language_info": {
      "name": "python"
    }
  },
  "cells": [
    {
      "cell_type": "markdown",
      "metadata": {
        "id": "view-in-github",
        "colab_type": "text"
      },
      "source": [
        "<a href=\"https://colab.research.google.com/github/DavidAntonio7/DavidAntonio7-quero-data-team-training-2/blob/main/desafio5.ipynb\" target=\"_parent\"><img src=\"https://colab.research.google.com/assets/colab-badge.svg\" alt=\"Open In Colab\"/></a>"
      ]
    },
    {
      "cell_type": "code",
      "execution_count": 22,
      "metadata": {
        "id": "GKhmUUZovZm8"
      },
      "outputs": [],
      "source": [
        "from pyspark.sql import SparkSession\n",
        "from pyspark.sql import functions as F"
      ]
    },
    {
      "cell_type": "code",
      "source": [
        "spark = SparkSession.builder.getOrCreate()"
      ],
      "metadata": {
        "id": "vjULzu5Zv34N"
      },
      "execution_count": 3,
      "outputs": []
    },
    {
      "cell_type": "code",
      "source": [
        "df = spark.read.csv(\"sales_data.csv\", header=True, inferSchema=True)\n"
      ],
      "metadata": {
        "id": "q_OBODwRvxrF"
      },
      "execution_count": 39,
      "outputs": []
    },
    {
      "cell_type": "code",
      "source": [
        "df.show(20)"
      ],
      "metadata": {
        "colab": {
          "base_uri": "https://localhost:8080/"
        },
        "id": "8FJYace9wAJ8",
        "outputId": "cb72e589-4e58-4281-dc8d-a367ff97aa04"
      },
      "execution_count": 67,
      "outputs": [
        {
          "output_type": "stream",
          "name": "stdout",
          "text": [
            "+---------------+-----------------+--------------+-----------------+--------------------+-------------+-----------------------+-----------------+-------------+-------------+------------------------+------------+\n",
            "|      user_name|user_country_name|user_city_name|     product_name| product_description|product_brand|product_value_in_dolars|       store_name|store_country|   store_city|datetime_of_the_purchase|buyed_amount|\n",
            "+---------------+-----------------+--------------+-----------------+--------------------+-------------+-----------------------+-----------------+-------------+-------------+------------------------+------------+\n",
            "|      Mark King|               UK|     Sheffield|            Dryer|Electric dryer wi...|      Samsung|                 699.99|         Waitrose|           UK|     Brighton|    2024-10-18 02:05:...|           4|\n",
            "|   Alice Hughes|               UK|       Bristol|     Robot Vacuum|Smart robot vacuu...|       iRobot|                 299.99|  Supercheap Auto|    Australia|       Cairns|    2024-12-10 17:22:...|           2|\n",
            "|   Diana Hughes|               UK|     Leicester|          Monitor|27-inch 144Hz gam...|         ASUS|                 349.99|              B&Q|           UK|  Southampton|    2025-01-09 16:15:...|           2|\n",
            "|   Diana Hughes|              USA|     Cleveland| Electric Griddle|Large electric gr...| Black+Decker|                  49.99|           Lowe's|          USA|   Fort Worth|    2024-10-25 03:02:...|           3|\n",
            "|Timothy Collins|              USA|     Charlotte|  Air Conditioner|Portable air cond...|    Honeywell|                 399.99|              B&Q|           UK|      Reading|    2024-11-02 11:20:...|           1|\n",
            "|  Angela Murphy|           Canada|       Windsor|           Peeler|Vegetable peeler ...|          OXO|                   9.99|         Waitrose|           UK|     Brighton|    2024-11-27 21:32:...|           5|\n",
            "|    Diana Hayes|           Canada|       Kelowna|      Slow Cooker|6-quart slow cook...|    Crock-Pot|                  79.99|         Waitrose|           UK|     Brighton|    2024-11-28 19:11:...|           3|\n",
            "|  James Jackson|               UK|    Birmingham|          Toaster|2-slice toaster w...|     Breville|                  59.99|  Supercheap Auto|    Australia|       Cairns|    2025-01-11 14:54:...|           4|\n",
            "| Lillian Hughes|              USA|  Philadelphia|   Coffee Grinder|Burr coffee grind...|      Baratza|                 199.99|      Officeworks|    Australia|      Mildura|    2024-12-24 04:52:...|           2|\n",
            "| Cheryl Russell|               UK|    Birmingham|  Pressure Cooker|Electric pressure...|  Instant Pot|                  99.99|     Sears Canada|       Canada|   St. John's|    2024-10-24 09:11:...|           1|\n",
            "|   Megan Hughes|           Canada|       Windsor|Bluetooth Speaker|Portable Bluetoot...|          JBL|                 149.99|            Argos|           UK|       London|    2024-11-28 11:19:...|           3|\n",
            "|   Betty Wright|        Australia|    Gold Coast|     Chef's Knife|Professional chef...|      Wüsthof|                  99.99|       John Lewis|           UK|      Belfast|    2025-02-08 09:32:...|           5|\n",
            "|     Lisa Young|           Canada|   Quebec City|    Potato Masher|Stainless steel p...|          OXO|                  19.99|  Marks & Spencer|           UK|      Bristol|    2024-12-01 02:25:...|           2|\n",
            "|  Evelyn Hughes|               UK|      Brighton| Sous Vide Cooker|Precision sous vi...|        Anova|                 129.99|  Marks & Spencer|           UK|      Bristol|    2024-11-26 04:27:...|           1|\n",
            "|  Robert Harris|              USA|       Houston|   Food Processor|Versatile food pr...|   KitchenAid|                 199.99|       Home Depot|          USA|      Chicago|    2024-11-10 08:43:...|           1|\n",
            "|    Ruth Hughes|               UK|    Birmingham|       Deep Fryer|Electric deep fry...|        T-fal|                  89.99|    Harvey Norman|    Australia|    Melbourne|    2024-12-10 18:26:...|           3|\n",
            "|Steven Gonzalez|              USA| San Francisco|           Grater|Box grater for ch...|   Microplane|                  19.99|          Loblaws|       Canada|      Calgary|    2025-01-13 22:08:...|           3|\n",
            "|     Ann Hughes|              USA|     Baltimore|    Salad Spinner|Manual salad spin...|          OXO|                  24.99|     Office Depot|    Australia|   Townsville|    2025-01-23 21:49:...|           5|\n",
            "|  James Jackson|               UK|    Birmingham|     Baking Sheet|Non-stick baking ...|  Nordic Ware|                  19.99|              B&Q|           UK|      Reading|    2024-10-20 12:00:...|           3|\n",
            "|   Alice Hughes|        Australia|    Townsville|          Blender|High-speed blende...|        Ninja|                  99.99|Fry's Electronics|          USA|San Francisco|    2025-01-31 05:45:...|           2|\n",
            "+---------------+-----------------+--------------+-----------------+--------------------+-------------+-----------------------+-----------------+-------------+-------------+------------------------+------------+\n",
            "only showing top 20 rows\n",
            "\n"
          ]
        }
      ]
    },
    {
      "cell_type": "code",
      "source": [
        "df_user = (\n",
        "    df\n",
        "    .select('user_name','user_country_name', 'user_city_name')\n",
        "    .dropDuplicates()\n",
        "    .withColumn('user_id', F.monotonically_increasing_id())\n",
        ")\n",
        "\n",
        "df_product = (\n",
        "    df\n",
        "    .select('product_name','product_description','product_brand','product_value_in_dolars')\n",
        "    .dropDuplicates()\n",
        "    .withColumn('product_id', F.monotonically_increasing_id())\n",
        ")\n",
        "\n",
        "df_store = (\n",
        "    df\n",
        "    .select('store_name','store_country','store_city')\n",
        "    .dropDuplicates()\n",
        "    .withColumn('store_id', F.monotonically_increasing_id())\n",
        ")"
      ],
      "metadata": {
        "id": "LwfSFH-Xw51t"
      },
      "execution_count": 41,
      "outputs": []
    },
    {
      "cell_type": "code",
      "source": [
        "df_with_ids = (\n",
        "    df\n",
        "    .join(df_user,    ['user_name','user_country_name', 'user_city_name'],                              'inner')\n",
        "    .join(df_product, ['product_name','product_description','product_brand','product_value_in_dolars'], 'inner')\n",
        "    .join(df_store,   ['store_name','store_country','store_city'],                                      'inner')\n",
        ")"
      ],
      "metadata": {
        "id": "avy3ssKv76_z"
      },
      "execution_count": 42,
      "outputs": []
    },
    {
      "cell_type": "code",
      "source": [
        "df_purchase = (\n",
        "    df_with_ids\n",
        "    .select('user_id','product_id','store_id','datetime_of_the_purchase','buyed_amount')\n",
        ")"
      ],
      "metadata": {
        "id": "8xGqo3Ow8SuE"
      },
      "execution_count": 52,
      "outputs": []
    },
    {
      "cell_type": "markdown",
      "source": [
        "# Dimension tables"
      ],
      "metadata": {
        "id": "bzCatPna-hks"
      }
    },
    {
      "cell_type": "code",
      "source": [
        "df_user.show(5)"
      ],
      "metadata": {
        "colab": {
          "base_uri": "https://localhost:8080/"
        },
        "id": "JpCkqHkP99bc",
        "outputId": "5307d698-300c-4966-ae99-f83b0bd38060"
      },
      "execution_count": 47,
      "outputs": [
        {
          "output_type": "stream",
          "name": "stdout",
          "text": [
            "+--------------+-----------------+--------------+-------+\n",
            "|     user_name|user_country_name|user_city_name|user_id|\n",
            "+--------------+-----------------+--------------+-------+\n",
            "|  Sandra Green|           Canada|       Halifax|      0|\n",
            "|Cheryl Russell|               UK|    Birmingham|      1|\n",
            "|    Diana Reed|        Australia|        Mackay|      2|\n",
            "|  Alice Hughes|        Australia|    Townsville|      3|\n",
            "|  Megan Hughes|              USA|       Buffalo|      4|\n",
            "+--------------+-----------------+--------------+-------+\n",
            "only showing top 5 rows\n",
            "\n"
          ]
        }
      ]
    },
    {
      "cell_type": "code",
      "source": [
        "df_product.show(5)"
      ],
      "metadata": {
        "colab": {
          "base_uri": "https://localhost:8080/"
        },
        "id": "hfKaclkq-CCs",
        "outputId": "cab3f4b7-3c4c-4537-d0a1-02db33253f29"
      },
      "execution_count": 48,
      "outputs": [
        {
          "output_type": "stream",
          "name": "stdout",
          "text": [
            "+-------------+--------------------+-------------+-----------------------+----------+\n",
            "| product_name| product_description|product_brand|product_value_in_dolars|product_id|\n",
            "+-------------+--------------------+-------------+-----------------------+----------+\n",
            "|     E-reader|Lightweight e-rea...|       Kindle|                  89.99|         0|\n",
            "|  Rice Cooker|Automatic rice co...|    Zojirushi|                 129.99|         1|\n",
            "|     Keyboard|Mechanical keyboa...|        Razer|                 129.99|         2|\n",
            "|Cutting Board|Bamboo cutting bo...|    John Boos|                  39.99|         3|\n",
            "|   VR Headset|Virtual reality h...|       Oculus|                 299.99|         4|\n",
            "+-------------+--------------------+-------------+-----------------------+----------+\n",
            "only showing top 5 rows\n",
            "\n"
          ]
        }
      ]
    },
    {
      "cell_type": "code",
      "source": [
        "df_store.show(5)"
      ],
      "metadata": {
        "colab": {
          "base_uri": "https://localhost:8080/"
        },
        "id": "mTJyYix5-HQE",
        "outputId": "8de7be4d-69d6-463d-84bb-68e0e9888b08"
      },
      "execution_count": 49,
      "outputs": [
        {
          "output_type": "stream",
          "name": "stdout",
          "text": [
            "+-----------+-------------+-----------+--------+\n",
            "| store_name|store_country| store_city|store_id|\n",
            "+-----------+-------------+-----------+--------+\n",
            "|Giant Tiger|       Canada|Quebec City|       0|\n",
            "|     Lowe's|          USA| Fort Worth|       1|\n",
            "|     Newegg|          USA|  San Diego|       2|\n",
            "| John Lewis|           UK|    Glasgow|       3|\n",
            "|      Boots|           UK|    Cardiff|       4|\n",
            "+-----------+-------------+-----------+--------+\n",
            "only showing top 5 rows\n",
            "\n"
          ]
        }
      ]
    },
    {
      "cell_type": "markdown",
      "source": [
        "#Fact tables"
      ],
      "metadata": {
        "id": "B1ReRpyk-qIr"
      }
    },
    {
      "cell_type": "code",
      "source": [
        "df_purchase.show(5)"
      ],
      "metadata": {
        "colab": {
          "base_uri": "https://localhost:8080/"
        },
        "id": "MyhSa_pb-Ng9",
        "outputId": "59a752f0-8ee9-4bbd-c714-db23970d5bad"
      },
      "execution_count": 54,
      "outputs": [
        {
          "output_type": "stream",
          "name": "stdout",
          "text": [
            "+-------+----------+--------+------------------------+------------+\n",
            "|user_id|product_id|store_id|datetime_of_the_purchase|buyed_amount|\n",
            "+-------+----------+--------+------------------------+------------+\n",
            "|     18|        41|      60|    2024-10-18 02:05:...|           4|\n",
            "|     25|        16|      52|    2024-12-10 17:22:...|           2|\n",
            "|     32|        25|      63|    2025-01-09 16:15:...|           2|\n",
            "|     33|        34|       1|    2024-10-25 03:02:...|           3|\n",
            "|     83|        27|      46|    2024-11-02 11:20:...|           1|\n",
            "+-------+----------+--------+------------------------+------------+\n",
            "only showing top 5 rows\n",
            "\n"
          ]
        }
      ]
    },
    {
      "cell_type": "markdown",
      "source": [
        "# questoes"
      ],
      "metadata": {
        "id": "rcTIqkpPAJyB"
      }
    },
    {
      "cell_type": "markdown",
      "source": [
        "- Quais foram os países com maior número de vendas ?"
      ],
      "metadata": {
        "id": "CCbGSY8wAMjf"
      }
    },
    {
      "cell_type": "code",
      "source": [
        "(\n",
        "    df_purchase\n",
        "    .join(df_store,'store_id', 'inner')\n",
        "    .groupBy('store_country')\n",
        "    .agg(F.count(F.col('store_id')).alias('numero_vendas'))\n",
        "    .orderBy('numero_vendas', ascending = False)\n",
        ").show()"
      ],
      "metadata": {
        "colab": {
          "base_uri": "https://localhost:8080/"
        },
        "id": "xZOKujv9ALwj",
        "outputId": "4ef1c30b-0887-4767-b064-a3565dff7743"
      },
      "execution_count": 65,
      "outputs": [
        {
          "output_type": "stream",
          "name": "stdout",
          "text": [
            "+-------------+-------------+\n",
            "|store_country|numero_vendas|\n",
            "+-------------+-------------+\n",
            "|       Canada|        13035|\n",
            "|    Australia|        12469|\n",
            "|          USA|        12271|\n",
            "|           UK|        12225|\n",
            "+-------------+-------------+\n",
            "\n"
          ]
        }
      ]
    },
    {
      "cell_type": "markdown",
      "source": [
        "- Quais países tem mais lojas ?"
      ],
      "metadata": {
        "id": "g1H9dxWZCCn0"
      }
    },
    {
      "cell_type": "code",
      "source": [
        "(\n",
        "    df_store\n",
        "    .groupBy('store_country')\n",
        "    .agg(F.count(F.col('store_id')).alias('numero_lojas'))\n",
        "    .orderBy('numero_lojas', ascending = False)\n",
        ").show()"
      ],
      "metadata": {
        "colab": {
          "base_uri": "https://localhost:8080/"
        },
        "id": "35KJJyQnCCI7",
        "outputId": "811d179e-3d6c-4443-a4ab-74151a9662b3"
      },
      "execution_count": 66,
      "outputs": [
        {
          "output_type": "stream",
          "name": "stdout",
          "text": [
            "+-------------+------------+\n",
            "|store_country|numero_lojas|\n",
            "+-------------+------------+\n",
            "|       Canada|          18|\n",
            "|          USA|          17|\n",
            "|           UK|          17|\n",
            "|    Australia|          17|\n",
            "+-------------+------------+\n",
            "\n"
          ]
        }
      ]
    },
    {
      "cell_type": "markdown",
      "source": [
        "- Quais países tiveram o maior valor total bruto de vendas ?\n"
      ],
      "metadata": {
        "id": "ukPdtO3JCuT8"
      }
    },
    {
      "cell_type": "code",
      "source": [
        "(\n",
        "    df_purchase\n",
        "    .join(df_store,'store_id', 'inner')\n",
        "    .join(df_product,'product_id','inner')\n",
        "    .withColumn('price', F.col('product_value_in_dolars') *  F.col('buyed_amount'))\n",
        "    .groupBy('store_country')\n",
        "    .agg(F.sum('price').alias('total_bruto'))\n",
        "    .orderBy('total_bruto', ascending = False)\n",
        ").show()"
      ],
      "metadata": {
        "colab": {
          "base_uri": "https://localhost:8080/"
        },
        "id": "GfiT8UbTCsBc",
        "outputId": "e18b2e38-e458-4e1d-ed9d-30b31ef9b528"
      },
      "execution_count": 72,
      "outputs": [
        {
          "output_type": "stream",
          "name": "stdout",
          "text": [
            "+-------------+-----------------+\n",
            "|store_country|      total_bruto|\n",
            "+-------------+-----------------+\n",
            "|       Canada| 7246033.97000056|\n",
            "|    Australia|6896470.250000497|\n",
            "|          USA|6860512.980000538|\n",
            "|           UK|6808784.100000538|\n",
            "+-------------+-----------------+\n",
            "\n"
          ]
        }
      ]
    }
  ]
}